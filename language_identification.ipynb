{
 "cells": [
  {
   "cell_type": "markdown",
   "metadata": {},
   "source": [
    "# Language Identification based on deep neural networks with ngrams\n",
    "This approach of language identification follows the paper: Language Identification a Neural Network Approach, https://core.ac.uk/download/pdf/62918899.pdf\n",
    "\n",
    "Feature extraction is partly inspired by:\n",
    "https://github.com/conorosully/medium-articles/blob/master/src/language_classification.ipynb"
   ]
  },
  {
   "cell_type": "code",
   "execution_count": 1,
   "metadata": {},
   "outputs": [],
   "source": [
    "# Specify whether model should train or be loaded from file\n",
    "\n",
    "TRAINING = False"
   ]
  },
  {
   "cell_type": "markdown",
   "metadata": {},
   "source": [
    "## Prepare dataset\n",
    "The data can be downloaded from: https://downloads.tatoeba.org/exports/"
   ]
  },
  {
   "cell_type": "code",
   "execution_count": 2,
   "metadata": {},
   "outputs": [],
   "source": [
    "# imports\n",
    "\n",
    "import pandas as pd\n",
    "from torch.utils.data import Dataset\n",
    "from sklearn.feature_extraction.text import CountVectorizer\n",
    "import torch\n",
    "import numpy as np"
   ]
  },
  {
   "cell_type": "code",
   "execution_count": 3,
   "metadata": {},
   "outputs": [],
   "source": [
    "# Set data parameters\n",
    "\n",
    "FILES = {'SENTENCES': 'sentences.csv'}\n",
    "MIN_SENTENCE_LENGTH = 20\n",
    "MAX_SENTENCE_LENGTH = 200\n",
    "MAX_SAMPLES = 5000\n",
    "LANG = ['deu', 'eng', 'fra']\n",
    "MAX_FEATURES = 40\n",
    "N = 3"
   ]
  },
  {
   "cell_type": "code",
   "execution_count": 4,
   "metadata": {},
   "outputs": [],
   "source": [
    "# Define helper functions\n",
    "\n",
    "# get most frequent ngrams for a specific language\n",
    "def _get_ngrams(corpus):\n",
    "    vectorizer = CountVectorizer(analyzer='char',\n",
    "                                ngram_range=(N, N),\n",
    "                                max_features=MAX_FEATURES)\n",
    "    \n",
    "    X = vectorizer.fit_transform(corpus)\n",
    "    \n",
    "    feature_names = vectorizer.get_feature_names()\n",
    "    return X, feature_names\n",
    "\n",
    "# get set of most frequent ngrams for every language\n",
    "def _get_vocab(data):\n",
    "    \n",
    "    vocab = set()\n",
    "        \n",
    "    # get ngrams for every language\n",
    "    for l in LANG:\n",
    "        corpus = data[data.lang==l]['text']\n",
    "        _, ngrams = _get_ngrams(corpus)\n",
    "        vocab.update(ngrams)\n",
    "    \n",
    "    return vocab\n",
    "\n",
    "def _count_ngrams(data, vocab):\n",
    "    # Get data based on vocab\n",
    "    vectorizer = CountVectorizer(analyzer='char',\n",
    "                        ngram_range=(N, N),\n",
    "                        vocabulary=vocab)\n",
    "\n",
    "    X = vectorizer.transform(data['text'])\n",
    "    feature_names = vectorizer.get_feature_names()\n",
    "    features = pd.DataFrame(data=X.toarray(), columns=feature_names)\n",
    "\n",
    "    return features\n",
    "\n",
    "# Get the ordinal representation of a language, given a language identifier\n",
    "def _langToIndex(l):\n",
    "    return int(LANG.index(l))\n",
    "\n",
    "# Get the text representation of a language, given the ordinal language value\n",
    "def _indexToLang(i):\n",
    "    return LANG[i]\n",
    "\n",
    "\n",
    "# Get the ordinal representation of a language tensor\n",
    "def _lineToTensor(line):\n",
    "    tensor = torch.zeros(len(line))\n",
    "    for li, l in enumerate(line):\n",
    "        tensor[li] = _langToIndex(l)\n",
    "        tensor = tensor.long()\n",
    "    return tensor\n",
    "\n",
    "def _normalize(features):\n",
    "    # Normalize matrix\n",
    "    count_min = features.min()\n",
    "    count_max = features.max()\n",
    "\n",
    "    # replace zero values to prevent division by zero\n",
    "    diff = (count_max - count_min).replace(0, 1)\n",
    "\n",
    "    features = (features - count_min) / diff\n",
    "    return features"
   ]
  },
  {
   "cell_type": "code",
   "execution_count": 5,
   "metadata": {},
   "outputs": [],
   "source": [
    "# Setup dataset generates a dataset fromm the specified csv_file and parameters\n",
    "# The dataset consists of a normalized frequency count of occurences of ngrams\n",
    "def _setup_datasets(csv_file, vocab=None):\n",
    "    data_frame = pd.read_csv(csv_file,\n",
    "              sep='\\t',\n",
    "              encoding='utf8',\n",
    "              index_col=0,\n",
    "              names=['lang', 'text'])\n",
    "\n",
    "    # Filter text by length\n",
    "    filter_len = [True if MIN_SENTENCE_LENGTH <= len(t)\n",
    "                  <= MAX_SENTENCE_LENGTH else False for t in data_frame['text']]\n",
    "    data_frame = data_frame[filter_len]\n",
    "\n",
    "    # Filter text by language\n",
    "    filter_lang = [True if l in LANG else False for l in data_frame['lang']]\n",
    "    data_frame = data_frame[filter_lang]\n",
    "    \n",
    "    # Sample data per language\n",
    "    data_trim = pd.DataFrame(columns=['lang', 'text'])\n",
    "    \n",
    "    for l in LANG:\n",
    "        n_samples = min(MAX_SAMPLES, len(data_frame[data_frame['lang']==l]))\n",
    "        lang_trim = data_frame[data_frame['lang']==l].sample(n_samples, random_state = 100)\n",
    "        data_trim = data_trim.append(lang_trim)\n",
    "\n",
    "    # Setup vocab from ngrams\n",
    "    if vocab is None:\n",
    "        vocab = _get_vocab(data_trim)\n",
    "\n",
    "    # Get data based on vocab\n",
    "    features = _count_ngrams(data_trim, vocab)\n",
    "\n",
    "    # Normalize matrix\n",
    "    _normalize(features)\n",
    "\n",
    "    labels = _lineToTensor(list(data_trim['lang']))\n",
    "    data = torch.tensor(features.values.astype(np.float32))\n",
    "\n",
    "    return LanguageIdentificationDataset(data, labels, vocab)"
   ]
  },
  {
   "cell_type": "code",
   "execution_count": 6,
   "metadata": {},
   "outputs": [],
   "source": [
    "# Define Dataset for Language Identification\n",
    "\n",
    "class LanguageIdentificationDataset(Dataset):\n",
    "    \"\"\"Dataset with text in various languages\"\"\"\n",
    "    \n",
    "    def __init__(self, data, labels, vocab):\n",
    "        \n",
    "        self._data = data\n",
    "        self._labels = labels\n",
    "        self._vocab = vocab\n",
    "        \n",
    "    def __len__(self):\n",
    "        return len(self._data)\n",
    "    \n",
    "    def __getitem__(self, i):\n",
    "        return self._data[i], self._labels[i]\n",
    "    \n",
    "    def __iter__(self):\n",
    "        for x in self._data:\n",
    "            yield x\n",
    "            \n",
    "    def get_labels(self):\n",
    "        return self._labels\n",
    "    \n",
    "    def get_vocab(self):\n",
    "        return self._vocab\n",
    "    \n",
    "    def get_lang(self):\n",
    "        return self._lang"
   ]
  },
  {
   "cell_type": "code",
   "execution_count": 7,
   "metadata": {},
   "outputs": [],
   "source": [
    "# Generate specific datasets\n",
    "\n",
    "# The sentences dataset consists of sentences in different languages\n",
    "def Sentences():\n",
    "    return _setup_datasets(FILES['SENTENCES'])\n",
    "\n",
    "# Load a custom dataset by specifying a csv file.\n",
    "# The csv file should have columns ['text', 'lang']\n",
    "def CustomDataset(csv_file, vocab):\n",
    "    return _setup_datasets(csv_file, vocab=vocab)"
   ]
  },
  {
   "cell_type": "markdown",
   "metadata": {},
   "source": [
    "## Load data\n",
    "Loading the dataset might take a while"
   ]
  },
  {
   "cell_type": "code",
   "execution_count": 8,
   "metadata": {},
   "outputs": [],
   "source": [
    "# Select dataset\n",
    "\n",
    "if TRAINING:\n",
    "\n",
    "    dataset = Sentences()\n",
    "    \n",
    "    # dataset = CustomDataset(small.csv)"
   ]
  },
  {
   "cell_type": "markdown",
   "metadata": {},
   "source": [
    "## Modelling"
   ]
  },
  {
   "cell_type": "code",
   "execution_count": 9,
   "metadata": {},
   "outputs": [],
   "source": [
    "# imports\n",
    "import torch\n",
    "import torch.nn as nn\n",
    "import torch.nn.functional as F\n",
    "import numpy as np"
   ]
  },
  {
   "cell_type": "code",
   "execution_count": 10,
   "metadata": {},
   "outputs": [],
   "source": [
    "class Network(nn.Module):\n",
    "    def __init__(self, vocab):\n",
    "        super(Network, self).__init__()\n",
    "        self.vocab = vocab\n",
    "        dim_input = len(vocab)\n",
    "        dim_output = len(LANG)\n",
    "        self.fc1 = nn.Linear(dim_input, dim_input)\n",
    "        self.fc2 = nn.Linear(dim_input, dim_input)\n",
    "        self.fc3 = nn.Linear(dim_input, dim_output)\n",
    "        \n",
    "    def forward(self, x):\n",
    "        x = F.sigmoid(self.fc1(x))\n",
    "        x = F.sigmoid(self.fc2(x))\n",
    "        x = F.softmax(self.fc3(x))\n",
    "        return x"
   ]
  },
  {
   "cell_type": "code",
   "execution_count": 11,
   "metadata": {},
   "outputs": [],
   "source": [
    "def train_step(model, dataset_train, optimizer, criterion):\n",
    "    \n",
    "    train_loss = 0\n",
    "    train_acc = 0\n",
    "    \n",
    "    data = torch.utils.data.DataLoader(dataset_train, batch_size=BATCH_SIZE, shuffle=True)\n",
    "    for i, (inp, lab) in enumerate(data):\n",
    "        optimizer.zero_grad()\n",
    "        pred = model(inp)\n",
    "        loss = criterion(pred, lab)\n",
    "        train_loss += loss.item()\n",
    "        loss.backward()\n",
    "        optimizer.step()\n",
    "        train_acc += (pred.argmax(1) == lab).sum().item()\n",
    "\n",
    "    return train_loss / len(dataset_train), train_acc / len(dataset_train)"
   ]
  },
  {
   "cell_type": "code",
   "execution_count": 12,
   "metadata": {},
   "outputs": [],
   "source": [
    "def test(model, dataset_val):\n",
    "    criterion = nn.CrossEntropyLoss()\n",
    "    \n",
    "    val_loss = 0\n",
    "    val_acc = 0\n",
    "    \n",
    "    data = torch.utils.data.DataLoader(dataset_val, batch_size=BATCH_SIZE, shuffle=True)\n",
    "    \n",
    "    for i, (inp, lab) in enumerate(data):\n",
    "        with torch.no_grad():\n",
    "            pred = model(inp)\n",
    "            loss = criterion(pred, lab)\n",
    "            val_loss += loss.item()\n",
    "            val_acc += (pred.argmax(1) == lab).sum().item()\n",
    "\n",
    "    return val_loss / len(dataset_val), val_acc / len(dataset_val)"
   ]
  },
  {
   "cell_type": "markdown",
   "metadata": {},
   "source": [
    "## Training"
   ]
  },
  {
   "cell_type": "code",
   "execution_count": 13,
   "metadata": {},
   "outputs": [],
   "source": [
    "import time\n",
    "from torch.utils.data.dataset import random_split"
   ]
  },
  {
   "cell_type": "code",
   "execution_count": 14,
   "metadata": {},
   "outputs": [],
   "source": [
    "# Set training parameters\n",
    "\n",
    "TEST_SIZE = 0.2\n",
    "VAL_SIZE = 0.05\n",
    "TRAIN_SIZE = 0.75\n",
    "\n",
    "N_EPOCHS = 5\n",
    "RATE = 0.001\n",
    "BATCH_SIZE = 4\n",
    "\n",
    "if TRAINING:\n",
    "    # Split data for training, validation and testing\n",
    "    data_len = len(dataset)\n",
    "    train_len = int(TRAIN_SIZE * data_len)\n",
    "    val_len = int(VAL_SIZE * data_len)\n",
    "    test_len = int(TEST_SIZE * data_len)\n",
    "\n",
    "    train_data, val_data, test_data = random_split(dataset, [train_len, val_len, test_len])"
   ]
  },
  {
   "cell_type": "code",
   "execution_count": 15,
   "metadata": {},
   "outputs": [],
   "source": [
    "def train(model, train_data, val_data):\n",
    "\n",
    "    optimizer = torch.optim.Adam(model.parameters(), lr=RATE)\n",
    "    criterion = nn.CrossEntropyLoss()\n",
    "\n",
    "    for epoch in range(N_EPOCHS):\n",
    "\n",
    "        start_time = time.time()\n",
    "        train_loss, train_acc = train_step(model, train_data, optimizer, criterion)\n",
    "        valid_loss, valid_acc = test(model, val_data)\n",
    "\n",
    "        secs = int(time.time() - start_time)\n",
    "        mins = secs / 60\n",
    "        secs = secs % 60\n",
    "\n",
    "\n",
    "        print('Epoch: %d' %(epoch + 1), \" | time in %d minutes, %d seconds\" %(mins, secs))\n",
    "        print(f'\\tLoss: {train_loss:.4f}(train)\\t|\\tAcc: {train_acc * 100:.1f}%(train)')\n",
    "        print(f'\\tLoss: {valid_loss:.4f}(valid)\\t|\\tAcc: {valid_acc * 100:.1f}%(valid)')"
   ]
  },
  {
   "cell_type": "code",
   "execution_count": 16,
   "metadata": {},
   "outputs": [],
   "source": [
    "if TRAINING:\n",
    "    vocab = dataset.get_vocab()\n",
    "    model = Network(vocab)\n",
    "    train(model, train_data, val_data)"
   ]
  },
  {
   "cell_type": "markdown",
   "metadata": {},
   "source": [
    "## Saving and loading the model"
   ]
  },
  {
   "cell_type": "code",
   "execution_count": 17,
   "metadata": {},
   "outputs": [],
   "source": [
    "PATH = \"model_saved\"\n",
    "\n",
    "# Save model\n",
    "def save_model(model):\n",
    "    torch.save(model, PATH)\n",
    "\n",
    "# Load model\n",
    "def load_model():\n",
    "    model = torch.load(PATH)\n",
    "    model.eval()\n",
    "    return model\n",
    "\n",
    "if TRAINING:\n",
    "    save_model(model)\n",
    "else:\n",
    "    model = load_model()"
   ]
  },
  {
   "cell_type": "markdown",
   "metadata": {},
   "source": [
    "## Testing"
   ]
  },
  {
   "cell_type": "code",
   "execution_count": 18,
   "metadata": {},
   "outputs": [],
   "source": [
    "if TRAINING:\n",
    "    # Test with test data\n",
    "    \n",
    "    test_loss, test_acc = test(model, test_data)\n",
    "    print(f'\\tLoss: {test_loss:.4f}(test)\\t|\\tAcc: {test_acc * 100:.1f}%(test)')"
   ]
  },
  {
   "cell_type": "code",
   "execution_count": 19,
   "metadata": {},
   "outputs": [
    {
     "name": "stdout",
     "output_type": "stream",
     "text": [
      "\tLoss: 0.1838(test)\t|\tAcc: 100.0%(test)\n"
     ]
    },
    {
     "name": "stderr",
     "output_type": "stream",
     "text": [
      "/Library/Frameworks/Python.framework/Versions/3.8/lib/python3.8/site-packages/torch/nn/functional.py:1569: UserWarning: nn.functional.sigmoid is deprecated. Use torch.sigmoid instead.\n",
      "  warnings.warn(\"nn.functional.sigmoid is deprecated. Use torch.sigmoid instead.\")\n",
      "<ipython-input-10-25dedc03234c>:14: UserWarning: Implicit dimension choice for softmax has been deprecated. Change the call to include dim=X as an argument.\n",
      "  x = F.softmax(self.fc3(x))\n"
     ]
    }
   ],
   "source": [
    "# Test with custom dataset from csv file\n",
    "\n",
    "def test_dataset(csv_file, model):\n",
    "    vocab = model.vocab\n",
    "    dataset = CustomDataset(csv_file, vocab)\n",
    "    test_loss, test_acc = test(model, dataset)\n",
    "    print(f'\\tLoss: {test_loss:.4f}(test)\\t|\\tAcc: {test_acc * 100:.1f}%(test)')\n",
    "    \n",
    "test_dataset(\"sample.csv\", model)"
   ]
  },
  {
   "cell_type": "markdown",
   "metadata": {},
   "source": [
    "# Predictions"
   ]
  },
  {
   "cell_type": "code",
   "execution_count": 24,
   "metadata": {},
   "outputs": [],
   "source": [
    "def predict_sentence(text, model):\n",
    "    vocab = model.vocab\n",
    "    df = pd.DataFrame([text], columns=['text'])\n",
    "    features = _count_ngrams(df, vocab)\n",
    "    with torch.no_grad():\n",
    "        tensor = torch.tensor(features.values.astype(np.float32))\n",
    "        pred = model(tensor)\n",
    "        return _indexToLang(pred.argmax(1).item())"
   ]
  },
  {
   "cell_type": "code",
   "execution_count": 25,
   "metadata": {},
   "outputs": [
    {
     "name": "stdout",
     "output_type": "stream",
     "text": [
      "Hell is empty and all the devils are here.\n",
      "Prediction: eng\n",
      "Ground truth: eng\n",
      "\n",
      "Kein Genuß ist vorübergehend; denn der Eindruck, den er zurückläßt, ist bleibend.\n",
      "Prediction: deu\n",
      "Ground truth: deu\n",
      "\n",
      "Il faut manger pour vivre et non pas vivre pour manger.\n",
      "Prediction: fra\n",
      "Ground truth: fra\n",
      "\n"
     ]
    },
    {
     "name": "stderr",
     "output_type": "stream",
     "text": [
      "<ipython-input-10-25dedc03234c>:14: UserWarning: Implicit dimension choice for softmax has been deprecated. Change the call to include dim=X as an argument.\n",
      "  x = F.softmax(self.fc3(x))\n"
     ]
    }
   ],
   "source": [
    "# Predict single sentence\n",
    "\n",
    "sample_string_eng = \"Hell is empty and all the devils are here.\"\n",
    "sample_string_deu = \"Kein Genuß ist vorübergehend; denn der Eindruck, den er zurückläßt, ist bleibend.\"\n",
    "sample_string_fra = \"Il faut manger pour vivre et non pas vivre pour manger.\"\n",
    "\n",
    "\n",
    "# English\n",
    "print(f\"{sample_string_eng}\")\n",
    "print(f\"Prediction: {predict_sentence(sample_string_eng, model)}\")\n",
    "print(f\"Ground truth: eng\\n\")\n",
    "\n",
    "# German\n",
    "print(f\"{sample_string_deu}\")\n",
    "print(f\"Prediction: {predict_sentence(sample_string_deu, model)}\")\n",
    "print(f\"Ground truth: deu\\n\")\n",
    "\n",
    "# French\n",
    "print(f\"{sample_string_fra}\")\n",
    "print(f\"Prediction: {predict_sentence(sample_string_fra, model)}\")\n",
    "print(f\"Ground truth: fra\\n\")"
   ]
  },
  {
   "cell_type": "code",
   "execution_count": null,
   "metadata": {},
   "outputs": [],
   "source": []
  }
 ],
 "metadata": {
  "kernelspec": {
   "display_name": "Python 3",
   "language": "python",
   "name": "python3"
  },
  "language_info": {
   "codemirror_mode": {
    "name": "ipython",
    "version": 3
   },
   "file_extension": ".py",
   "mimetype": "text/x-python",
   "name": "python",
   "nbconvert_exporter": "python",
   "pygments_lexer": "ipython3",
   "version": "3.8.0"
  }
 },
 "nbformat": 4,
 "nbformat_minor": 4
}
