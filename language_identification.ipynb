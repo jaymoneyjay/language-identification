{
 "cells": [
  {
   "cell_type": "code",
   "execution_count": 3,
   "metadata": {},
   "outputs": [],
   "source": [
    "# imports\n",
    "import pandas as pd"
   ]
  },
  {
   "cell_type": "code",
   "execution_count": 4,
   "metadata": {},
   "outputs": [
    {
     "name": "stdout",
     "output_type": "stream",
     "text": [
      "        lang                                 text\n",
      "1        cmn                               我們試試看！\n",
      "2        cmn                              我该去睡觉了。\n",
      "3        cmn                              你在干什麼啊？\n",
      "4        cmn                               這是什麼啊？\n",
      "5        cmn               今天是６月１８号，也是Muiriel的生日！\n",
      "...      ...                                  ...\n",
      "9621308  eng                He is the one I need.\n",
      "9621309  hun                        Nekem ő kell!\n",
      "9621310  eng  She's the one I've ever dreamed of.\n",
      "9621311  hun     Ő az, akiről mindig is álmodtam.\n",
      "9621312  hun     Miért nem vetted fel a telefont?\n",
      "\n",
      "[9184604 rows x 2 columns]\n"
     ]
    }
   ],
   "source": [
    "# TODO: Justify assumptions\n",
    "MIN_LEN = 20\n",
    "MAX_LEN = 200\n",
    "\n",
    "LANG = ['deu', 'eng', 'fra']\n",
    "\n",
    "DATA_SIZE = 5000\n",
    "TEST_SIZE = 0.2\n",
    "\n",
    "data = pd.read_csv('sentences.csv',\n",
    "                  sep='\\t',\n",
    "                  encoding='utf8',\n",
    "                  index_col=0,\n",
    "                  names=['lang', 'text'])\n",
    "print(data)\n",
    "\n"
   ]
  },
  {
   "cell_type": "code",
   "execution_count": null,
   "metadata": {},
   "outputs": [],
   "source": [
    "# Filter text by length\n",
    "filter_len = [True if MIN_LEN <= len(t) <= MAX_LEN else False for t in data['text']]\n",
    "data = data[filter_len]\n",
    "\n",
    "# Filter text by language\n",
    "filter_lang = [True if l in LANG else False for l in data['lang']]\n",
    "data = data[filter_lang]"
   ]
  },
  {
   "cell_type": "code",
   "execution_count": null,
   "metadata": {},
   "outputs": [],
   "source": [
    "# Shuffle and crop data\n",
    "data_sample = data.sample(n=DATA_SIZE)\n",
    "\n",
    "# Split data into test set and training set\n",
    "offset = int(TEST_SIZE * DATA_SIZE)\n",
    "data_test = data_sample[:offset]\n",
    "data_train = data_sample[offset:]\n",
    "print(len(data_test))"
   ]
  },
  {
   "cell_type": "code",
   "execution_count": null,
   "metadata": {},
   "outputs": [],
   "source": []
  }
 ],
 "metadata": {
  "kernelspec": {
   "display_name": "Python 3",
   "language": "python",
   "name": "python3"
  },
  "language_info": {
   "codemirror_mode": {
    "name": "ipython",
    "version": 3
   },
   "file_extension": ".py",
   "mimetype": "text/x-python",
   "name": "python",
   "nbconvert_exporter": "python",
   "pygments_lexer": "ipython3",
   "version": "3.8.0"
  }
 },
 "nbformat": 4,
 "nbformat_minor": 4
}
